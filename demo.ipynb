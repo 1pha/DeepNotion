{
 "cells": [
  {
   "cell_type": "markdown",
   "metadata": {},
   "source": [
    "# Demo Usage\n",
    "For the demo usage, I apply very simple (which doesn't work very well) neural network and send their information to notion page. Sample Notion page is [here](https://www.notion.so/DeepNotion-Sample-Page-3709487e93694d0f97d432335ae16100)"
   ]
  },
  {
   "cell_type": "markdown",
   "metadata": {},
   "source": [
    "# Login"
   ]
  },
  {
   "cell_type": "markdown",
   "metadata": {},
   "source": [
    "My configuration file is hidden (for sure, since `token_v2` is my privacy) but I'll show what's insde my .yml's `url`: https://www.notion.so/DeepNotion-Sample-Page-3709487e93694d0f97d432335ae16100"
   ]
  },
  {
   "cell_type": "code",
   "execution_count": 1,
   "metadata": {
    "ExecuteTime": {
     "end_time": "2021-01-29T08:53:16.235018Z",
     "start_time": "2021-01-29T08:53:07.056305Z"
    }
   },
   "outputs": [
    {
     "name": "stdout",
     "output_type": "stream",
     "text": [
      "[login] 0.7 sec\n",
      "[make_page] 5.3 sec\n"
     ]
    }
   ],
   "source": [
    "from build import *\n",
    "from time_utils import *\n",
    "\n",
    "root, client = login() # LOGIN. dictionary of config or path of your .yml\n",
    "page = make_page(root, title='Database '+today())"
   ]
  },
  {
   "cell_type": "markdown",
   "metadata": {},
   "source": [
    "# Make Database on to that page"
   ]
  },
  {
   "cell_type": "code",
   "execution_count": 2,
   "metadata": {
    "ExecuteTime": {
     "end_time": "2021-01-29T08:53:27.164859Z",
     "start_time": "2021-01-29T08:53:16.239020Z"
    }
   },
   "outputs": [
    {
     "name": "stdout",
     "output_type": "stream",
     "text": [
      "[login] 1.0 sec\n",
      "[make_db] 10.9 sec\n"
     ]
    }
   ],
   "source": [
    "db = make_db(page, title='Breast Cancer')"
   ]
  },
  {
   "cell_type": "markdown",
   "metadata": {},
   "source": [
    "# Very Simple PyTorch Example"
   ]
  },
  {
   "cell_type": "code",
   "execution_count": 3,
   "metadata": {
    "ExecuteTime": {
     "end_time": "2021-01-29T08:53:29.235378Z",
     "start_time": "2021-01-29T08:53:27.165861Z"
    }
   },
   "outputs": [],
   "source": [
    "import torch\n",
    "import torch.nn as nn\n",
    "from torch.utils.data import TensorDataset, DataLoader\n",
    "\n",
    "from sklearn.datasets import load_breast_cancer\n",
    "from sklearn.model_selection import train_test_split"
   ]
  },
  {
   "cell_type": "code",
   "execution_count": 4,
   "metadata": {
    "ExecuteTime": {
     "end_time": "2021-01-29T08:53:29.266376Z",
     "start_time": "2021-01-29T08:53:29.236378Z"
    }
   },
   "outputs": [],
   "source": [
    "X, y = load_breast_cancer(return_X_y=True)\n",
    "X_train, X_test, y_train, y_test = train_test_split(X, y, test_size=0.2)"
   ]
  },
  {
   "cell_type": "code",
   "execution_count": 5,
   "metadata": {
    "ExecuteTime": {
     "end_time": "2021-01-29T08:53:29.282379Z",
     "start_time": "2021-01-29T08:53:29.267377Z"
    }
   },
   "outputs": [],
   "source": [
    "trn_ds = TensorDataset(torch.tensor(X_train, dtype=torch.float), torch.tensor(y_train))\n",
    "trn_dl = DataLoader(trn_ds, batch_size=8)\n",
    "\n",
    "tst_ds = TensorDataset(torch.tensor(X_test, dtype=torch.float), torch.tensor(y_test))\n",
    "tst_dl = DataLoader(tst_ds, batch_size=8)"
   ]
  },
  {
   "cell_type": "code",
   "execution_count": 6,
   "metadata": {
    "ExecuteTime": {
     "end_time": "2021-01-29T08:53:29.298376Z",
     "start_time": "2021-01-29T08:53:29.284378Z"
    }
   },
   "outputs": [],
   "source": [
    "class ANN(nn.Module):\n",
    "    \n",
    "    def __init__(self):\n",
    "        super(ANN, self).__init__()\n",
    "        \n",
    "        self.fc1 = nn.Linear(30, 10)\n",
    "        self.fc2 = nn.Linear(10, 1)\n",
    "        \n",
    "        self.relu = nn.ReLU()\n",
    "        self.sigmoid = nn.Sigmoid()\n",
    "    \n",
    "    def forward(self, x):\n",
    "        \n",
    "        x = self.relu(self.fc1(x))\n",
    "        x = self.sigmoid(self.fc2(x))\n",
    "        \n",
    "        return x"
   ]
  },
  {
   "cell_type": "code",
   "execution_count": 7,
   "metadata": {
    "ExecuteTime": {
     "end_time": "2021-01-29T08:53:29.322376Z",
     "start_time": "2021-01-29T08:53:29.299377Z"
    }
   },
   "outputs": [],
   "source": [
    "model = ANN()\n",
    "\n",
    "loss_fn = nn.BCELoss()\n",
    "optimizer = torch.optim.Adam(model.parameters(), lr=1e-3)"
   ]
  },
  {
   "cell_type": "code",
   "execution_count": 8,
   "metadata": {
    "ExecuteTime": {
     "end_time": "2021-01-29T08:56:44.948142Z",
     "start_time": "2021-01-29T08:53:29.323378Z"
    }
   },
   "outputs": [
    {
     "name": "stdout",
     "output_type": "stream",
     "text": [
      "[write_db] 52.6 sec\n",
      "[write_db] 22.4 sec\n",
      "[write_db] 10.3 sec\n",
      "[write_db] 13.1 sec\n",
      "[write_db] 12.7 sec\n",
      "[write_db] 28.1 sec\n",
      "[write_db] 14.2 sec\n",
      "[write_db] 11.1 sec\n",
      "[write_db] 15.6 sec\n",
      "[write_db] 14.9 sec\n"
     ]
    }
   ],
   "source": [
    "trn_loss, tst_loss = [], []\n",
    "for e in range(10):\n",
    "    \n",
    "    preds = []\n",
    "    for x, y in trn_dl:\n",
    "        \n",
    "        y_pred = model(x)\n",
    "        loss = loss_fn(y_pred, y.float())\n",
    "        preds.append((y_pred > 0).type(torch.int).squeeze(1) - y)\n",
    "        \n",
    "        optimizer.zero_grad()\n",
    "        loss.backward()\n",
    "        optimizer.step()\n",
    "        \n",
    "    preds = torch.cat(preds)\n",
    "    trn_acc = 1 - torch.sum(preds).type(torch.float) / len(preds)\n",
    "    trn_loss = loss.item()\n",
    "        \n",
    "    preds = []\n",
    "    for x, y in tst_dl:\n",
    "        \n",
    "        y_pred = model(x)\n",
    "        loss = loss_fn(y_pred, y.float())\n",
    "        preds.append((y_pred > 0).type(torch.int).squeeze(1) - y)\n",
    "        \n",
    "    preds = torch.cat(preds)\n",
    "    tst_acc = 1 - torch.sum(preds).type(torch.float) / len(preds)\n",
    "    tst_loss = loss.item()\n",
    "    \n",
    "    # This part is sending the result to the notion\n",
    "    # ... and the model works horribly hehe\n",
    "    # I recommend you to send these informations not every epochs\n",
    "    # but rather 5 or 10 epochs at a time ...\n",
    "    # Since...\n",
    "    # 1. It takes some time when writing\n",
    "    # 2. If it happens too much, notion server will block you :(\n",
    "    data = {\n",
    "        'Epochs': f'{e}',\n",
    "        \n",
    "        'Train Loss': trn_loss,\n",
    "        'Train Acc': float(trn_acc),\n",
    "        \n",
    "        'Test Loss': tst_loss,\n",
    "        'Test Acc': float(tst_acc),\n",
    "    }\n",
    "    try:\n",
    "        write_db(db, data)\n",
    "        \n",
    "    except HTTPError:\n",
    "        pass"
   ]
  }
 ],
 "metadata": {
  "kernelspec": {
   "display_name": "Python 3",
   "language": "python",
   "name": "python3"
  },
  "language_info": {
   "codemirror_mode": {
    "name": "ipython",
    "version": 3
   },
   "file_extension": ".py",
   "mimetype": "text/x-python",
   "name": "python",
   "nbconvert_exporter": "python",
   "pygments_lexer": "ipython3",
   "version": "3.7.7"
  },
  "toc": {
   "base_numbering": 1,
   "nav_menu": {},
   "number_sections": true,
   "sideBar": true,
   "skip_h1_title": false,
   "title_cell": "Table of Contents",
   "title_sidebar": "Contents",
   "toc_cell": false,
   "toc_position": {},
   "toc_section_display": true,
   "toc_window_display": false
  }
 },
 "nbformat": 4,
 "nbformat_minor": 4
}
